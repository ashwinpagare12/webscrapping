{
 "cells": [
  {
   "cell_type": "markdown",
   "metadata": {},
   "source": [
    "# <center>**Webscrapping**"
   ]
  },
  {
   "cell_type": "markdown",
   "metadata": {
    "id": "t0XtBGMt6LeS"
   },
   "source": [
    "**Scrape mobile name, mobile price and reviews from first 10 page of \n",
    "flipkart**"
   ]
  },
  {
   "cell_type": "markdown",
   "metadata": {},
   "source": [
    "URL flipkard first page is:    \n",
    "https://www.flipkart.com/search?q=mobiles&as=on&as-show=on&otracker=AS_Query_TrendingAutoSuggest_3_0_na_na_na&otracker1=AS_Query_TrendingAutoSuggest_3_0_na_na_na&as-pos=3&as-type=TRENDING&suggestionId=mobiles&requestId=d6382bd6-cab2-4a54-b00a-63ee330278a0&page=1"
   ]
  },
  {
   "cell_type": "code",
   "execution_count": 9,
   "metadata": {
    "colab": {
     "base_uri": "https://localhost:8080/",
     "height": 423
    },
    "id": "ZPKn6mSJQavV",
    "outputId": "bc719f06-08a5-4545-8b2e-3f08074b8036"
   },
   "outputs": [
    {
     "data": {
      "text/html": [
       "<div>\n",
       "<style scoped>\n",
       "    .dataframe tbody tr th:only-of-type {\n",
       "        vertical-align: middle;\n",
       "    }\n",
       "\n",
       "    .dataframe tbody tr th {\n",
       "        vertical-align: top;\n",
       "    }\n",
       "\n",
       "    .dataframe thead th {\n",
       "        text-align: right;\n",
       "    }\n",
       "</style>\n",
       "<table border=\"1\" class=\"dataframe\">\n",
       "  <thead>\n",
       "    <tr style=\"text-align: right;\">\n",
       "      <th></th>\n",
       "      <th>Page</th>\n",
       "      <th>Name_Mobile</th>\n",
       "      <th>Price</th>\n",
       "      <th>Review</th>\n",
       "    </tr>\n",
       "  </thead>\n",
       "  <tbody>\n",
       "    <tr>\n",
       "      <th>0</th>\n",
       "      <td>1</td>\n",
       "      <td>POCO C31 (Shadow Gray, 64 GB)</td>\n",
       "      <td>₹9,499</td>\n",
       "      <td>4.3</td>\n",
       "    </tr>\n",
       "    <tr>\n",
       "      <th>1</th>\n",
       "      <td>1</td>\n",
       "      <td>POCO C50 (Country Green, 32 GB)</td>\n",
       "      <td>₹5,749</td>\n",
       "      <td>4.3</td>\n",
       "    </tr>\n",
       "    <tr>\n",
       "      <th>2</th>\n",
       "      <td>1</td>\n",
       "      <td>MOTOROLA G32 (Mineral Gray, 128 GB)</td>\n",
       "      <td>₹11,999</td>\n",
       "      <td>4.1</td>\n",
       "    </tr>\n",
       "    <tr>\n",
       "      <th>3</th>\n",
       "      <td>1</td>\n",
       "      <td>MOTOROLA e13 (Aurora Green, 64 GB)</td>\n",
       "      <td>₹7,749</td>\n",
       "      <td>4</td>\n",
       "    </tr>\n",
       "    <tr>\n",
       "      <th>4</th>\n",
       "      <td>1</td>\n",
       "      <td>POCO M4 Pro (Cool Blue, 128 GB)</td>\n",
       "      <td>₹12,999</td>\n",
       "      <td>4.3</td>\n",
       "    </tr>\n",
       "    <tr>\n",
       "      <th>...</th>\n",
       "      <td>...</td>\n",
       "      <td>...</td>\n",
       "      <td>...</td>\n",
       "      <td>...</td>\n",
       "    </tr>\n",
       "    <tr>\n",
       "      <th>163</th>\n",
       "      <td>10</td>\n",
       "      <td>OnePlus Nord CE 2 Lite 5G (Black Dusk, 128 GB)</td>\n",
       "      <td>₹21,962</td>\n",
       "      <td>4.3</td>\n",
       "    </tr>\n",
       "    <tr>\n",
       "      <th>164</th>\n",
       "      <td>10</td>\n",
       "      <td>SAMSUNG Galaxy F14 5G (B.A.E. Purple, 128 GB)</td>\n",
       "      <td>₹14,490</td>\n",
       "      <td>4.2</td>\n",
       "    </tr>\n",
       "    <tr>\n",
       "      <th>165</th>\n",
       "      <td>10</td>\n",
       "      <td>vivo T1X (Space Blue, 128 GB)</td>\n",
       "      <td>₹14,999</td>\n",
       "      <td>4.4</td>\n",
       "    </tr>\n",
       "    <tr>\n",
       "      <th>166</th>\n",
       "      <td>10</td>\n",
       "      <td>vivo T1X (Space Blue, 128 GB)</td>\n",
       "      <td>₹12,999</td>\n",
       "      <td>4.5</td>\n",
       "    </tr>\n",
       "    <tr>\n",
       "      <th>167</th>\n",
       "      <td>10</td>\n",
       "      <td>vivo T1X (Gravity Black, 128 GB)</td>\n",
       "      <td>₹14,999</td>\n",
       "      <td>4.4</td>\n",
       "    </tr>\n",
       "  </tbody>\n",
       "</table>\n",
       "<p>168 rows × 4 columns</p>\n",
       "</div>"
      ],
      "text/plain": [
       "     Page                                     Name_Mobile    Price Review\n",
       "0       1                   POCO C31 (Shadow Gray, 64 GB)   ₹9,499    4.3\n",
       "1       1                 POCO C50 (Country Green, 32 GB)   ₹5,749    4.3\n",
       "2       1             MOTOROLA G32 (Mineral Gray, 128 GB)  ₹11,999    4.1\n",
       "3       1              MOTOROLA e13 (Aurora Green, 64 GB)   ₹7,749      4\n",
       "4       1                 POCO M4 Pro (Cool Blue, 128 GB)  ₹12,999    4.3\n",
       "..    ...                                             ...      ...    ...\n",
       "163    10  OnePlus Nord CE 2 Lite 5G (Black Dusk, 128 GB)  ₹21,962    4.3\n",
       "164    10   SAMSUNG Galaxy F14 5G (B.A.E. Purple, 128 GB)  ₹14,490    4.2\n",
       "165    10                   vivo T1X (Space Blue, 128 GB)  ₹14,999    4.4\n",
       "166    10                   vivo T1X (Space Blue, 128 GB)  ₹12,999    4.5\n",
       "167    10                vivo T1X (Gravity Black, 128 GB)  ₹14,999    4.4\n",
       "\n",
       "[168 rows x 4 columns]"
      ]
     },
     "execution_count": 9,
     "metadata": {},
     "output_type": "execute_result"
    }
   ],
   "source": [
    "import requests\n",
    "from bs4 import BeautifulSoup\n",
    "import pandas as pd\n",
    "\n",
    "mobile_data = {\"Page\":[],\"Name_Mobile\":[],\"Price\":[],\"Review\":[]}\n",
    "\n",
    "for i in range(1,11):  # Iterate from page 1 to 10\n",
    "  url = \"\"\"https://www.flipkart.com/search?q=mobiles&as=on&as-show=on&otracker=AS_Query_TrendingAutoSuggest_\n",
    "           3_0_na_na_na&otracker1=AS_Query_TrendingAutoSuggest_3_0_na_na_na&as-pos=3&as-type=TRENDING&suggestionId=\n",
    "           mobiles&requestId=d6382bd6-cab2-4a54-b00a-63ee330278a0&page=\"\"\"+str(i)\n",
    "\n",
    "  r = requests.get(url)\n",
    "  html_content = r.content\n",
    "  soup = BeautifulSoup(html_content, 'html.parser')\n",
    "  soup.title.string\n",
    "  mobiles = soup.find_all(\"div\", {'class': '_2kHMtA'})\n",
    "\n",
    "    \n",
    "  for mobile in mobiles:\n",
    "    mobile_data[\"Page\"].append(i)\n",
    "    \n",
    "    mobile_data[\"Name_Mobile\"].append(mobile.find(\"div\",{'class': '_4rR01T'}).text)\n",
    "    \n",
    "    \n",
    "    price = mobile.find(\"div\",{'class': \"_30jeq3 _1_WHN1\"})\n",
    "    if price is not None:\n",
    "        mobile_data[\"Price\"].append(price.text)\n",
    "    else:\n",
    "        mobile_data[\"Price\"].append(None)  # If price is not fount it will return None\n",
    "    \n",
    "    \n",
    "    review = mobile.find(\"div\",{'class': \"_3LWZlK\"})\n",
    "    if review is not None:\n",
    "        mobile_data[\"Review\"].append(review.text)\n",
    "    else:\n",
    "        mobile_data[\"Review\"].append(None)  # If review is not fount it will return None\n",
    "    \n",
    "pd.DataFrame(mobile_data    # Create dataframe"
   ]
  },
  {
   "cell_type": "code",
   "execution_count": 1,
   "metadata": {
    "id": "0m2lx3PzBJ6v"
   },
   "outputs": [],
   "source": []
  },
  {
   "cell_type": "code",
   "execution_count": null,
   "metadata": {},
   "outputs": [],
   "source": []
  }
 ],
 "metadata": {
  "colab": {
   "provenance": []
  },
  "kernelspec": {
   "display_name": "Python 3 (ipykernel)",
   "language": "python",
   "name": "python3"
  },
  "language_info": {
   "codemirror_mode": {
    "name": "ipython",
    "version": 3
   },
   "file_extension": ".py",
   "mimetype": "text/x-python",
   "name": "python",
   "nbconvert_exporter": "python",
   "pygments_lexer": "ipython3",
   "version": "3.9.7"
  }
 },
 "nbformat": 4,
 "nbformat_minor": 1
}
